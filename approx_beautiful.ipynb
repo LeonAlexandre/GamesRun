{
 "cells": [
  {
   "cell_type": "code",
   "execution_count": 1,
   "metadata": {},
   "outputs": [],
   "source": [
    "#this is where I put all my imports\n",
    "from ipywidgets import widgets\n",
    "from pylab import *\n",
    "import math\n",
    "import operator"
   ]
  },
  {
   "cell_type": "markdown",
   "metadata": {},
   "source": [
    "# The joy of approximations\n",
    "## Yeah, approximations are great\n",
    "\n",
    "Alrighty!"
   ]
  },
  {
   "cell_type": "code",
   "execution_count": 2,
   "metadata": {},
   "outputs": [],
   "source": [
    "def computM(firVal):    \n",
    "    return math.floor(math.sqrt(firVal))\n",
    "\n",
    "def approxRoot(n,m): #n is the new number, m is the previous largest perfect root\n",
    "\tfac = m ** 2\n",
    "\tif n == (m + 1) ** 2:\n",
    "\t\tm +=1\n",
    "\t\tapprox = m \n",
    "\telse:\n",
    "\t\tapprox = m + ((n-fac)/(2*m))\n",
    "\treturn (approx,m)\n",
    "\n",
    "def computNum(firVal,secVal,m,approxList,rootList,nList):\n",
    "    for N in range(firVal,secVal):\n",
    "        l,m = approxRoot(N,m)\n",
    "        approxList.append(l)\n",
    "        realRoot = math.sqrt(N)\n",
    "        rootList.append(realRoot)\n",
    "        nList.append(N)\n",
    "    return(approxList, rootList,nList)"
   ]
  },
  {
   "cell_type": "code",
   "execution_count": 5,
   "metadata": {},
   "outputs": [
    {
     "data": {
      "application/vnd.jupyter.widget-view+json": {
       "model_id": "e51599ea9e044e2b8a37c0a87463ce1d",
       "version_major": 2,
       "version_minor": 0
      },
      "text/html": [
       "<p>Failed to display Jupyter Widget of type <code>interactive</code>.</p>\n",
       "<p>\n",
       "  If you're reading this message in the Jupyter Notebook or JupyterLab Notebook, it may mean\n",
       "  that the widgets JavaScript is still loading. If this message persists, it\n",
       "  likely means that the widgets JavaScript library is either not installed or\n",
       "  not enabled. See the <a href=\"https://ipywidgets.readthedocs.io/en/stable/user_install.html\">Jupyter\n",
       "  Widgets Documentation</a> for setup instructions.\n",
       "</p>\n",
       "<p>\n",
       "  If you're reading this message in another frontend (for example, a static\n",
       "  rendering on GitHub or <a href=\"https://nbviewer.jupyter.org/\">NBViewer</a>),\n",
       "  it may mean that your frontend doesn't currently support widgets.\n",
       "</p>\n"
      ],
      "text/plain": [
       "interactive(children=(IntRangeSlider(value=(1, 250), continuous_update=False, description='Value range:', max=600, min=1, step=10), Output()), _dom_classes=('widget-interact',))"
      ]
     },
     "metadata": {},
     "output_type": "display_data"
    },
    {
     "data": {
      "text/plain": [
       "(1, 250)"
      ]
     },
     "execution_count": 5,
     "metadata": {},
     "output_type": "execute_result"
    }
   ],
   "source": [
    "w = widgets.IntRangeSlider(\n",
    "    value=[1, 250],\n",
    "    min=1,\n",
    "    max=600,\n",
    "    step=10,\n",
    "    description='Value range:',\n",
    "    disabled=False,\n",
    "    continuous_update=False,\n",
    "    orientation='horizontal',\n",
    "    readout=True,\n",
    "    readout_format='d',\n",
    ")\n",
    "\n",
    "def sampleVal(sender):\n",
    "    print(sender)\n",
    "    firVal = sender[0]\n",
    "    secVal = sender[1]\n",
    "    m = computM(firVal)\n",
    "    approxList = []\n",
    "    rootList =[]\n",
    "    nList = []\n",
    "\n",
    "    result = tuple(computNum(firVal,secVal,m,approxList,rootList,nList))\n",
    "    approxList = result[0]\n",
    "    rootList = result[1]\n",
    "    nList = result[2]\n",
    "\n",
    "    \n",
    "    \n",
    "    diffList = list(map(operator.sub, approxList, rootList))\n",
    "    negList = [ -n*0.01 for n in nList]\n",
    "    fig = plt.figure()\n",
    "    axes = fig.add_axes([0.1, 0.1, 0.8, 0.8]) # left, bottom, width, height (range 0 to 1)\n",
    "    axes.plot(nList, diffList, 'r', label=\"Difference\")\n",
    "    \n",
    "    return(sender)\n",
    "\n",
    "\n",
    "g = widgets.interactive(sampleVal,sender=w)\n",
    "display(g)\n",
    "\n",
    "g.result"
   ]
  }
 ],
 "metadata": {
  "kernelspec": {
   "display_name": "Python 3",
   "language": "python",
   "name": "python3"
  },
  "language_info": {
   "codemirror_mode": {
    "name": "ipython",
    "version": 3
   },
   "file_extension": ".py",
   "mimetype": "text/x-python",
   "name": "python",
   "nbconvert_exporter": "python",
   "pygments_lexer": "ipython3",
   "version": "3.6.4"
  }
 },
 "nbformat": 4,
 "nbformat_minor": 2
}
